{
 "cells": [
  {
   "cell_type": "markdown",
   "id": "501f4107",
   "metadata": {},
   "source": [
    "# **Chudnovsky Algorithm**\n",
    "\n",
    "The **Chudnovsky algorithm** is a very fast method for calculating the digits of π (pi), based on Ramanujan's π formulae. It was published by the Chudnovsky brothers in 1988 and has been used to set numerous world records for the most digits of π ever computed.\n",
    "\n",
    "---\n",
    "\n",
    "### *Working Formula:*\n",
    "\n",
    "$$\n",
    "\\frac{1}{\\pi} = 12 \\sum_{k=0}^{\\infty}\n",
    "\\frac{(-1)^k \\cdot (6k)! \\cdot (13591409 + 545140134k)}\n",
    "{(3k)! \\cdot (k!)^3 \\cdot 640320^{3k + 3/2}}\n",
    "$$\n",
    "\n",
    "---\n",
    "\n",
    "**Purpose:**\n",
    "\n",
    "The Chudnovsky algorithm is designed for extremely rapid computation of π to millions, billions, or even trillions of digits.\n",
    "\n",
    "**How it works:**  \n",
    "\n",
    "It uses a special infinite series (a generalized hypergeometric series) where each term is constructed from large factorials, specific constants, and powers. The denominator grows so fast that each term contributes about 14 new correct digits of π, making the series converge extremely quickly."
   ]
  },
  {
   "cell_type": "code",
   "execution_count": 1,
   "id": "f107c890",
   "metadata": {},
   "outputs": [],
   "source": [
    "import math # importing required modules\n",
    "from decimal import Decimal, getcontext\n",
    "\n",
    "getcontext().prec = 50 # set precision to 50 decimal places"
   ]
  },
  {
   "cell_type": "code",
   "execution_count": 2,
   "id": "6eb2419f",
   "metadata": {},
   "outputs": [],
   "source": [
    "def f(x): # defining a factorial function for cleaner code\n",
    "    return math.factorial(x)"
   ]
  },
  {
   "cell_type": "code",
   "execution_count": 3,
   "id": "357eb922",
   "metadata": {},
   "outputs": [
    {
     "name": "stdout",
     "output_type": "stream",
     "text": [
      "Actual PI =\t3.14159265358979323846264338327950288419716939937510\n",
      "Estimated PI =\t3.14159265358979334233705724217276509644728677748370\n",
      "Difference =\t0.00000000000000010387441385889326221225011737810860\n"
     ]
    }
   ],
   "source": [
    "sum = Decimal(0) # Decimal() sets the precision of these variables\n",
    "term = None\n",
    "n = 10 # summation upto n terms\n",
    "\n",
    "for k in range(0, n+1):\n",
    "\n",
    "    numerator = Decimal(((-1)**k) * (f(6*k)) * (13591409 + 545140134*k)) # numerator term\n",
    "    denominator = Decimal((f(3*k)) * ((f(k))**3) * ((640320)**(3*k + 1.5))) # denominator term\n",
    "    \n",
    "    term = numerator / denominator\n",
    "\n",
    "    sum += term\n",
    "\n",
    "const = Decimal(12)\n",
    "one_by_pi = const * sum # multiply with 12 as per formula\n",
    "\n",
    "est_pi = 1 / one_by_pi # inverse\n",
    "actual_pi = Decimal('3.14159265358979323846264338327950288419716939937510') # actual PI upto 50 digits\n",
    "diff = abs(actual_pi - est_pi) # checking difference from actual PI value\n",
    "\n",
    "print(f\"Actual PI =\\t{actual_pi:.50f}\")\n",
    "print(f\"Estimated PI =\\t{est_pi:.50f}\")\n",
    "print(f\"Difference =\\t{diff:.50f}\")\n"
   ]
  }
 ],
 "metadata": {
  "kernelspec": {
   "display_name": ".venv",
   "language": "python",
   "name": "python3"
  },
  "language_info": {
   "codemirror_mode": {
    "name": "ipython",
    "version": 3
   },
   "file_extension": ".py",
   "mimetype": "text/x-python",
   "name": "python",
   "nbconvert_exporter": "python",
   "pygments_lexer": "ipython3",
   "version": "3.12.10"
  }
 },
 "nbformat": 4,
 "nbformat_minor": 5
}
