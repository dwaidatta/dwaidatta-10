{
 "cells": [
  {
   "cell_type": "markdown",
   "id": "70d74611",
   "metadata": {},
   "source": [
    "# Brute-Force Three-Point Minima Search for Continuous Polynomial Function\n",
    "\n",
    "Here is a continuous polynomial function in single variable $x$: $2x^2 + 5x - 3$\n",
    "\n",
    "The exact coordinates of the minima (global) of this polynomial are $(-1.25, -6.125)$.\n",
    "\n",
    "We will try to find the minima of this polynomial by normal comparison between the values of the polynomial at different points. For this:\n",
    "\n",
    "- range of $x$ is fixed\n",
    "- $interval$ is based on the $divisions$ of the range\n",
    "- $interval$ is the size of each $division$\n",
    "- values of $y$ are calculated for each $x$ taking three values of $x$ for each iteration\n",
    "- function is being checked from left to right"
   ]
  },
  {
   "cell_type": "code",
   "execution_count": 21,
   "id": "49e7ac80",
   "metadata": {},
   "outputs": [],
   "source": [
    "def func_x(x):\n",
    "\n",
    "    # give value of the function for given value of x\n",
    "\n",
    "    y = 2*(x**2) + 5*x - 3\n",
    "    \n",
    "    return y"
   ]
  },
  {
   "cell_type": "code",
   "execution_count": 22,
   "id": "0062df89",
   "metadata": {},
   "outputs": [],
   "source": [
    "def divisions_n_interval():\n",
    "\n",
    "    no_of_divisions = int(input(\"Enter divisions: \")) # take user input for number of divisions\n",
    "    print(\"Number of divisions:\", no_of_divisions)\n",
    "\n",
    "    # predefining these values\n",
    "\n",
    "    upper_limit = 5.0\n",
    "    lower_limit = -5.0\n",
    "\n",
    "    interval = float((upper_limit - lower_limit) / no_of_divisions)\n",
    "\n",
    "    return (lower_limit, upper_limit, interval)"
   ]
  },
  {
   "cell_type": "code",
   "execution_count": 23,
   "id": "90b3bea8",
   "metadata": {},
   "outputs": [],
   "source": [
    "def find_minima():\n",
    "\n",
    "    x1, upper_limit, interval = divisions_n_interval()\n",
    "\n",
    "    print(f\"Lower limit = {x1}\\nUpper limit = {upper_limit}\\nInterval = {interval}\")\n",
    "\n",
    "    x2 = x1 + interval\n",
    "    x3 = x2 + interval\n",
    "\n",
    "    while (x3 <= upper_limit):\n",
    "        y1 = func_x(x1) # getting values of y for respective x\n",
    "        y2 = func_x(x2)\n",
    "        y3 = func_x(x3)\n",
    "\n",
    "        if ((y1 >= y2) and (y2 <= y3)): # minima logic\n",
    "            print(f\"Minima (x, y) = ({x2}, {y2})\")\n",
    "            return # ends function\n",
    "        \n",
    "        x2 = x1 + interval # update x1, x2, x3\n",
    "        x3 = x2 + interval\n",
    "        x1 = x3\n",
    "    \n",
    "    else:\n",
    "        print(\"Minima NOT found in given range.\")\n",
    "        return # ends function"
   ]
  },
  {
   "cell_type": "code",
   "execution_count": 24,
   "id": "fb938c51",
   "metadata": {},
   "outputs": [
    {
     "name": "stdout",
     "output_type": "stream",
     "text": [
      "Number of divisions: 10\n",
      "Lower limit = -5.0\n",
      "Upper limit = 5.0\n",
      "Interval = 1.0\n",
      "Minima (x, y) = (0.0, -3.0)\n"
     ]
    }
   ],
   "source": [
    "find_minima()"
   ]
  },
  {
   "cell_type": "code",
   "execution_count": 25,
   "id": "51ce9b82",
   "metadata": {},
   "outputs": [
    {
     "name": "stdout",
     "output_type": "stream",
     "text": [
      "Number of divisions: 500\n",
      "Lower limit = -5.0\n",
      "Upper limit = 5.0\n",
      "Interval = 0.02\n",
      "Minima (x, y) = (-1.2200000000000188, -6.123200000000002)\n"
     ]
    }
   ],
   "source": [
    "find_minima()"
   ]
  },
  {
   "cell_type": "code",
   "execution_count": 26,
   "id": "3b5b21b9",
   "metadata": {},
   "outputs": [
    {
     "name": "stdout",
     "output_type": "stream",
     "text": [
      "Number of divisions: 5000\n",
      "Lower limit = -5.0\n",
      "Upper limit = 5.0\n",
      "Interval = 0.002\n",
      "Minima (x, y) = (-1.2500000000003297, -6.125)\n"
     ]
    }
   ],
   "source": [
    "find_minima()"
   ]
  }
 ],
 "metadata": {
  "kernelspec": {
   "display_name": ".venv",
   "language": "python",
   "name": "python3"
  },
  "language_info": {
   "codemirror_mode": {
    "name": "ipython",
    "version": 3
   },
   "file_extension": ".py",
   "mimetype": "text/x-python",
   "name": "python",
   "nbconvert_exporter": "python",
   "pygments_lexer": "ipython3",
   "version": "3.12.10"
  }
 },
 "nbformat": 4,
 "nbformat_minor": 5
}
