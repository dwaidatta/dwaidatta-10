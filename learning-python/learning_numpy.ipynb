{
 "cells": [
  {
   "cell_type": "markdown",
   "metadata": {},
   "source": [
    "# Learning NumPy\n",
    "NumPy (Numerical Python) is a library for:\n",
    "\n",
    "- Working with arrays (like lists but faster and more powerful)\n",
    "- Performing mathematical and statistical operations efficiently\n",
    "- Handling multi-dimensional data\n"
   ]
  },
  {
   "cell_type": "markdown",
   "metadata": {},
   "source": [
    "## Basics"
   ]
  },
  {
   "cell_type": "code",
   "execution_count": null,
   "metadata": {},
   "outputs": [],
   "source": [
    "# installing numpy\n",
    "!pip install numpy"
   ]
  },
  {
   "cell_type": "code",
   "execution_count": 2,
   "metadata": {},
   "outputs": [],
   "source": [
    "# importing numpy\n",
    "import numpy as np"
   ]
  },
  {
   "cell_type": "code",
   "execution_count": 3,
   "metadata": {},
   "outputs": [
    {
     "name": "stdout",
     "output_type": "stream",
     "text": [
      "[1 2 3]\n"
     ]
    }
   ],
   "source": [
    "# creating a numpy array\n",
    "arr = np.array([1, 2, 3]) # 1D array\n",
    "print(arr)"
   ]
  },
  {
   "cell_type": "code",
   "execution_count": 4,
   "metadata": {},
   "outputs": [
    {
     "name": "stdout",
     "output_type": "stream",
     "text": [
      "(3,)\n",
      "1\n",
      "3\n",
      "int32\n"
     ]
    }
   ],
   "source": [
    "# array attributes\n",
    "print(arr.shape) #shape of arr, tells the no. of rows and columns\n",
    "print(arr.ndim) # number of dimensions 1d, 2d etc\n",
    "print(arr.size) # total no. of elements\n",
    "print(arr.dtype) # data type of elements"
   ]
  },
  {
   "cell_type": "code",
   "execution_count": 5,
   "metadata": {},
   "outputs": [
    {
     "name": "stdout",
     "output_type": "stream",
     "text": [
      "[55  2  3]\n"
     ]
    }
   ],
   "source": [
    "# updating elements\n",
    "arr[0] = 55 # value at index 0 updating to 55\n",
    "print(arr)"
   ]
  },
  {
   "cell_type": "markdown",
   "metadata": {},
   "source": [
    "## Special Arrays"
   ]
  },
  {
   "cell_type": "code",
   "execution_count": 6,
   "metadata": {},
   "outputs": [
    {
     "name": "stdout",
     "output_type": "stream",
     "text": [
      "[[0. 0. 0.]\n",
      " [0. 0. 0.]]\n"
     ]
    }
   ],
   "source": [
    "# array of zeros\n",
    "zeros = np.zeros((2, 3)) # 2 rows, 3 cols \n",
    "# creates an arr filled with 0.0\n",
    "# shape is defined as rows, cols\n",
    "print(zeros)"
   ]
  },
  {
   "cell_type": "code",
   "execution_count": 7,
   "metadata": {},
   "outputs": [
    {
     "name": "stdout",
     "output_type": "stream",
     "text": [
      "[[1. 1.]\n",
      " [1. 1.]\n",
      " [1. 1.]\n",
      " [1. 1.]\n",
      " [1. 1.]]\n"
     ]
    }
   ],
   "source": [
    "# array of ones\n",
    "ones = np.ones((5, 2)) # rows, cols\n",
    "print(ones)"
   ]
  },
  {
   "cell_type": "code",
   "execution_count": 8,
   "metadata": {},
   "outputs": [
    {
     "name": "stdout",
     "output_type": "stream",
     "text": [
      "[[0.34714642 0.28551879 0.75788899 0.04654625]\n",
      " [0.87636158 0.27404913 0.08763796 0.63460641]]\n"
     ]
    }
   ],
   "source": [
    "# array with random values\n",
    "arr_rand = np.random.rand(2, 4) # rows, cols\n",
    "print(arr_rand)"
   ]
  },
  {
   "cell_type": "markdown",
   "metadata": {},
   "source": [
    "## Creating arrays with ranges"
   ]
  },
  {
   "cell_type": "code",
   "execution_count": 9,
   "metadata": {},
   "outputs": [
    {
     "name": "stdout",
     "output_type": "stream",
     "text": [
      "[1 3 5 7 9]\n"
     ]
    }
   ],
   "source": [
    "# arange()\n",
    "arr = np.arange(1, 10, 2) # start at 1, end before 10, step by 2\n",
    "print(arr)"
   ]
  },
  {
   "cell_type": "code",
   "execution_count": 10,
   "metadata": {},
   "outputs": [
    {
     "name": "stdout",
     "output_type": "stream",
     "text": [
      "[0.   0.25 0.5  0.75 1.  ]\n"
     ]
    }
   ],
   "source": [
    "# linspace()\n",
    "arr = np.linspace(0, 1, 5) # 5 numbers between 0 and 1\n",
    "print(arr)\n",
    "\n",
    "# linspace() creates an array with a specific number of evenly spaced points"
   ]
  },
  {
   "cell_type": "markdown",
   "metadata": {},
   "source": [
    "## Indexing and Slicing"
   ]
  },
  {
   "cell_type": "code",
   "execution_count": 11,
   "metadata": {},
   "outputs": [
    {
     "name": "stdout",
     "output_type": "stream",
     "text": [
      "[10 20 30 40 50]\n"
     ]
    }
   ],
   "source": [
    "l = [10, 20, 30, 40, 50]\n",
    "arr = np.array(l)\n",
    "print(arr)"
   ]
  },
  {
   "cell_type": "code",
   "execution_count": 12,
   "metadata": {},
   "outputs": [
    {
     "name": "stdout",
     "output_type": "stream",
     "text": [
      "10\n",
      "50\n",
      "40\n"
     ]
    }
   ],
   "source": [
    "# indexing\n",
    "print(arr[0])\n",
    "print(arr[-1]) # last element\n",
    "print(arr[3])"
   ]
  },
  {
   "cell_type": "markdown",
   "metadata": {},
   "source": [
    "Indexing and slicing works same as python lists"
   ]
  },
  {
   "cell_type": "code",
   "execution_count": 13,
   "metadata": {},
   "outputs": [
    {
     "name": "stdout",
     "output_type": "stream",
     "text": [
      "[20 30 40]\n",
      "[10 20 30]\n",
      "[10 30 50]\n"
     ]
    }
   ],
   "source": [
    "print(arr[1:4])  # Elements from index 1 to 3\n",
    "print(arr[:3])   # First 3 elements\n",
    "print(arr[::2])  # Every 2nd element"
   ]
  },
  {
   "cell_type": "markdown",
   "metadata": {},
   "source": [
    "## Mathematical Operations"
   ]
  },
  {
   "cell_type": "code",
   "execution_count": 14,
   "metadata": {},
   "outputs": [
    {
     "name": "stdout",
     "output_type": "stream",
     "text": [
      "[15 25 35 45 55]\n",
      "[ 20  40  60  80 100]\n",
      "[ 100  400  900 1600 2500]\n"
     ]
    }
   ],
   "source": [
    "# l = [10, 20, 30, 40, 50] already defined earlier\n",
    "arr = np.array(l)\n",
    "\n",
    "print(arr + 5) # adds 5 to each element\n",
    "print(arr * 2) # multiplies each element by 2\n",
    "print(arr ** 2) # squares each element"
   ]
  },
  {
   "cell_type": "code",
   "execution_count": 15,
   "metadata": {},
   "outputs": [
    {
     "name": "stdout",
     "output_type": "stream",
     "text": [
      "[5 7 9]\n",
      "[ 4 10 18]\n"
     ]
    }
   ],
   "source": [
    "arr1 = np.array([1, 2, 3])\n",
    "arr2 = np.array([4, 5, 6])\n",
    "\n",
    "print(arr1 + arr2)\n",
    "print(arr1 * arr2)"
   ]
  },
  {
   "cell_type": "markdown",
   "metadata": {},
   "source": [
    "## 2D Arrays"
   ]
  },
  {
   "cell_type": "markdown",
   "metadata": {},
   "source": [
    "1D array functions tried out in 2D"
   ]
  },
  {
   "cell_type": "code",
   "execution_count": 16,
   "metadata": {},
   "outputs": [
    {
     "name": "stdout",
     "output_type": "stream",
     "text": [
      "[[1 2 3]\n",
      " [4 5 6]\n",
      " [7 8 9]]\n"
     ]
    }
   ],
   "source": [
    "# creating a 2d array\n",
    "arr = np.array([[1, 2, 3], [4, 5, 6], [7, 8 , 9]])\n",
    "print(arr)"
   ]
  },
  {
   "cell_type": "code",
   "execution_count": 17,
   "metadata": {},
   "outputs": [
    {
     "name": "stdout",
     "output_type": "stream",
     "text": [
      "(3, 3)\n",
      "2\n",
      "9\n",
      "int32\n"
     ]
    }
   ],
   "source": [
    "print(arr.shape)\n",
    "print(arr.ndim)\n",
    "print(arr.size)\n",
    "print(arr.dtype)"
   ]
  },
  {
   "cell_type": "code",
   "execution_count": 18,
   "metadata": {},
   "outputs": [
    {
     "name": "stdout",
     "output_type": "stream",
     "text": [
      "2\n",
      "[1 2 3]\n",
      "[3 6 9]\n"
     ]
    }
   ],
   "source": [
    "# accessing the elements\n",
    "print(arr[0, 1]) # element at row 0, col 1\n",
    "print(arr[0]) # entire row 1\n",
    "print(arr[: , 2]) # col 2"
   ]
  },
  {
   "cell_type": "code",
   "execution_count": 19,
   "metadata": {},
   "outputs": [
    {
     "name": "stdout",
     "output_type": "stream",
     "text": [
      "[[2 3]\n",
      " [5 6]]\n"
     ]
    }
   ],
   "source": [
    "# slicing\n",
    "sub_arr = arr[0:2, 1:3] # row 0,1 col 1,2\n",
    "print(sub_arr)"
   ]
  },
  {
   "cell_type": "code",
   "execution_count": 20,
   "metadata": {},
   "outputs": [
    {
     "name": "stdout",
     "output_type": "stream",
     "text": [
      "[[ 1  2  3]\n",
      " [ 4  5 99]\n",
      " [ 7  8  9]]\n",
      "[[ 0  0  0]\n",
      " [ 4  5 99]\n",
      " [ 7  8  9]]\n",
      "[[0 0 1]\n",
      " [4 5 1]\n",
      " [7 8 1]]\n"
     ]
    }
   ],
   "source": [
    "# updating \n",
    "arr[1,2] = 99 # row 1 col 2 element changing\n",
    "print(arr)\n",
    "\n",
    "arr[0] = [0, 0, 0] # updating entire row\n",
    "print(arr)\n",
    "\n",
    "arr[ : , 2] = [1, 1, 1] # updating col\n",
    "print(arr)"
   ]
  },
  {
   "cell_type": "code",
   "execution_count": 21,
   "metadata": {},
   "outputs": [
    {
     "name": "stdout",
     "output_type": "stream",
     "text": [
      "[[ 5  5  6]\n",
      " [ 9 10  6]\n",
      " [12 13  6]]\n",
      "[[ 0  0  2]\n",
      " [ 8 10  2]\n",
      " [14 16  2]]\n",
      "[[ 0  0  1]\n",
      " [16 25  1]\n",
      " [49 64  1]]\n"
     ]
    }
   ],
   "source": [
    "print(arr + 5) # adds 5 to each element\n",
    "print(arr * 2) # multiplies each element by 2\n",
    "print(arr ** 2) # squares each element"
   ]
  },
  {
   "cell_type": "code",
   "execution_count": 22,
   "metadata": {},
   "outputs": [
    {
     "name": "stdout",
     "output_type": "stream",
     "text": [
      "[[ 2  2  3]\n",
      " [ 4  6  6]\n",
      " [ 7  8 10]]\n",
      "[[1 0 0]\n",
      " [0 5 0]\n",
      " [0 0 9]]\n",
      "[[1 2 3]\n",
      " [4 5 6]\n",
      " [7 8 9]]\n"
     ]
    }
   ],
   "source": [
    "arr1 = np.array([[1, 2, 3], [4, 5, 6], [7, 8 , 9]])\n",
    "arr2 = np.array([[1, 0, 0], [0, 1, 0], [0, 0 , 1]])\n",
    "\n",
    "print(arr1 + arr2)\n",
    "print(arr1 * arr2) # element wise multiplication\n",
    "print(arr1 @ arr2) # matrix multiplication"
   ]
  },
  {
   "cell_type": "markdown",
   "metadata": {},
   "source": [
    "Keep an eye on the different types of multiplication"
   ]
  },
  {
   "cell_type": "code",
   "execution_count": 23,
   "metadata": {},
   "outputs": [
    {
     "name": "stdout",
     "output_type": "stream",
     "text": [
      "[[1 2 3]\n",
      " [4 5 6]\n",
      " [7 8 9]]\n",
      "[[1 2 3]\n",
      " [4 5 6]\n",
      " [7 8 9]]\n"
     ]
    }
   ],
   "source": [
    "print(arr1.dot(arr2)) # matrix multiplication using dot function\n",
    "print(np.dot(arr1, arr2)) # matrix multiplication using dot function"
   ]
  },
  {
   "cell_type": "markdown",
   "metadata": {},
   "source": [
    "## Broadcasting Concept\n",
    "In simple terms, broadcasting in NumPy is a way of matching array shapes automatically so you can perform operations (like addition, multiplication, etc.) without writing extra code to adjust their sizes manually\n",
    "\n",
    "For broadcasting to work, the dimensions of the arrays must satisfy these rules:\n",
    "\n",
    "- The arrays are compared from right to left\n",
    "- Dimensions are compatible if:\n",
    "    - They are the same, or\n",
    "    - One of them is 1"
   ]
  },
  {
   "cell_type": "code",
   "execution_count": 24,
   "metadata": {},
   "outputs": [
    {
     "name": "stdout",
     "output_type": "stream",
     "text": [
      "[[1 2 3]\n",
      " [4 5 6]]\n",
      "[10 20 30]\n",
      "[[11 22 33]\n",
      " [14 25 36]]\n"
     ]
    }
   ],
   "source": [
    "# broadcasting in addition\n",
    "\n",
    "arr1 = np.array([[1, 2, 3], [4, 5, 6]])\n",
    "arr2 = np.array([10, 20, 30])\n",
    "\n",
    "print(arr1)\n",
    "print(arr2)\n",
    "print(arr1 + arr2)"
   ]
  },
  {
   "cell_type": "code",
   "execution_count": 25,
   "metadata": {},
   "outputs": [
    {
     "name": "stdout",
     "output_type": "stream",
     "text": [
      "[[1 2 3]\n",
      " [4 5 6]]\n",
      "[[10]\n",
      " [20]]\n",
      "[[11 12 13]\n",
      " [24 25 26]]\n"
     ]
    }
   ],
   "source": [
    "# broadcasting in addition\n",
    "\n",
    "arr1 = np.array([[1, 2, 3], [4, 5, 6]])\n",
    "arr2 = np.array([[10], [20]])\n",
    "\n",
    "print(arr1)\n",
    "print(arr2)\n",
    "print(arr1 + arr2)"
   ]
  },
  {
   "cell_type": "code",
   "execution_count": 26,
   "metadata": {},
   "outputs": [
    {
     "name": "stdout",
     "output_type": "stream",
     "text": [
      "[[ 10  40  90]\n",
      " [ 40 100 180]]\n"
     ]
    }
   ],
   "source": [
    "# broadcasting in multiplication\n",
    "\n",
    "arr1 = np.array([[1, 2, 3], [4, 5, 6]])\n",
    "arr2 = np.array([10, 20, 30])\n",
    "\n",
    "print(arr1 * arr2) # element wise multiplication"
   ]
  },
  {
   "cell_type": "code",
   "execution_count": 27,
   "metadata": {},
   "outputs": [
    {
     "name": "stdout",
     "output_type": "stream",
     "text": [
      "[140 320]\n"
     ]
    }
   ],
   "source": [
    "# broadcasting in multiplication\n",
    "\n",
    "arr1 = np.array([[1, 2, 3], [4, 5, 6]]) # 2x3\n",
    "arr2 = np.array([10, 20, 30]) #1x3\n",
    "\n",
    "print(arr1 @ arr2) # matrix wise multiplication, arr2 becomes 3x1 when multiplying"
   ]
  },
  {
   "cell_type": "code",
   "execution_count": 28,
   "metadata": {},
   "outputs": [
    {
     "name": "stdout",
     "output_type": "stream",
     "text": [
      "[[1 2 3]\n",
      " [4 5 6]]\n"
     ]
    }
   ],
   "source": [
    "# broadcasting in multiplication\n",
    "\n",
    "arr1 = np.array([[1, 2, 3], [4, 5, 6]]) # 2x3\n",
    "arr2 = np.array([[1, 0, 0], [0, 1, 0], [0, 0 , 1]]) #3x3\n",
    "\n",
    "print(arr1 @ arr2) # matrix wise multiplication"
   ]
  },
  {
   "cell_type": "markdown",
   "metadata": {},
   "source": [
    "| Operation            | Example       | Shape Compatibility   | Result Shape  |\n",
    "|----------------------|---------------|-----------------------|---------------|\n",
    "| **Element-Wise**     | `arr1 * arr2` | Same shape or broadcastable | Same as input |\n",
    "| **Matrix Multiplication** | `arr1 @ arr2` | `(a, b) @ (b, c)`       | `(a, c)`       |\n"
   ]
  },
  {
   "cell_type": "markdown",
   "metadata": {},
   "source": [
    "## Reshaping arrays"
   ]
  },
  {
   "cell_type": "code",
   "execution_count": 29,
   "metadata": {},
   "outputs": [
    {
     "name": "stdout",
     "output_type": "stream",
     "text": [
      "[[1 2]\n",
      " [3 4]\n",
      " [5 6]]\n",
      "[1 2 3 4 5 6]\n",
      "[[1 4]\n",
      " [2 5]\n",
      " [3 6]]\n"
     ]
    }
   ],
   "source": [
    "arr1 = np.array([[1, 2, 3], [4, 5, 6]]) # 2x3\n",
    "\n",
    "print(arr1.reshape(3, 2)) # reshapes into 3x2\n",
    "print(arr1.ravel()) # flattens into 1D array\n",
    "print(arr1.T) # transpose"
   ]
  },
  {
   "cell_type": "markdown",
   "metadata": {},
   "source": [
    "## Aggregate Functions"
   ]
  },
  {
   "cell_type": "code",
   "execution_count": 30,
   "metadata": {},
   "outputs": [
    {
     "name": "stdout",
     "output_type": "stream",
     "text": [
      "171\n",
      "28.5\n",
      "66 , 1\n",
      "27.25649769626807\n",
      "742.9166666666666\n",
      "23.5\n",
      "958320\n"
     ]
    }
   ],
   "source": [
    "arr = np.array([[1, 2, 3], [44, 55, 66]])\n",
    "\n",
    "print(np.sum(arr)) # sum of all elements\n",
    "print(np.mean(arr)) # average of all ele\n",
    "print(np.max(arr), \",\", np.min(arr)) # max and min of all ele\n",
    "print(np.std(arr)) # standard deviation\n",
    "print(np.var(arr)) # variance\n",
    "print(np.median(arr)) # median value\n",
    "print(np.product(arr)) # product of all ele"
   ]
  },
  {
   "cell_type": "markdown",
   "metadata": {},
   "source": [
    "Check use of axis parameter"
   ]
  },
  {
   "cell_type": "code",
   "execution_count": 31,
   "metadata": {},
   "outputs": [
    {
     "name": "stdout",
     "output_type": "stream",
     "text": [
      "[  6 165]\n",
      "[45 57 69]\n",
      "[ 3 66]\n",
      "[1 2 3]\n"
     ]
    }
   ],
   "source": [
    "# using the axix parameter\n",
    "\n",
    "print(np.sum(arr, axis=1)) # sum of each row\n",
    "print(np.sum(arr, axis=0)) # sum of each col\n",
    "\n",
    "print(np.max(arr, axis=1)) # max of each row\n",
    "print(np.min(arr, axis=0)) # min of each col"
   ]
  },
  {
   "cell_type": "markdown",
   "metadata": {},
   "source": [
    "## Handling Missing Values"
   ]
  },
  {
   "cell_type": "code",
   "execution_count": 32,
   "metadata": {},
   "outputs": [
    {
     "name": "stdout",
     "output_type": "stream",
     "text": [
      "[[ 1. nan  3.]\n",
      " [ 4.  5. nan]]\n"
     ]
    }
   ],
   "source": [
    "# missing values\n",
    "\n",
    "arr_with_nan = np.array([[1, np.nan, 3], [4, 5, np.nan]])\n",
    "print(arr_with_nan)"
   ]
  },
  {
   "cell_type": "code",
   "execution_count": 33,
   "metadata": {},
   "outputs": [
    {
     "name": "stdout",
     "output_type": "stream",
     "text": [
      "[[False  True False]\n",
      " [False False  True]]\n"
     ]
    }
   ],
   "source": [
    "# checking for nan values\n",
    "print(np.isnan(arr_with_nan))"
   ]
  },
  {
   "cell_type": "code",
   "execution_count": 34,
   "metadata": {},
   "outputs": [
    {
     "name": "stdout",
     "output_type": "stream",
     "text": [
      "3.25\n"
     ]
    }
   ],
   "source": [
    "# mean ignoring nan values\n",
    "print(np.nanmean(arr_with_nan))"
   ]
  },
  {
   "cell_type": "code",
   "execution_count": 35,
   "metadata": {},
   "outputs": [
    {
     "name": "stdout",
     "output_type": "stream",
     "text": [
      "13.0\n"
     ]
    }
   ],
   "source": [
    "# sum ignoring nan values\n",
    "print(np.nansum(arr_with_nan))"
   ]
  },
  {
   "cell_type": "markdown",
   "metadata": {},
   "source": [
    "# At a glance"
   ]
  },
  {
   "cell_type": "markdown",
   "metadata": {},
   "source": [
    "| **Name**              | **Description**                                                   | **Input Parameters**                            | **Syntax**                     | **Output**                    | **Return Value**        | **Example**                                                                                      |\n",
    "|-----------------------|-------------------------------------------------------------------|------------------------------------------------|--------------------------------|--------------------------------|-------------------------|--------------------------------------------------------------------------------------------------|\n",
    "| **`np.sum`**          | Computes the sum of array elements.                              | `axis` (optional: sum along rows/columns)      | `np.sum(arr, axis)`            | Scalar or array            | Sum of elements         | `np.sum([[1, 2], [3, 4]])` → `10`                                                               |\n",
    "| **`np.mean`**         | Computes the mean (average) of elements.                        | `axis` (optional: mean along rows/columns)     | `np.mean(arr, axis)`           | Scalar or array            | Average value           | `np.mean([[1, 2], [3, 4]])` → `2.5`                                                             |\n",
    "| **`np.min` / `np.max`** | Finds the minimum/maximum value in the array.                   | `axis` (optional: min/max along rows/columns)  | `np.min(arr, axis)`            | Scalar or array            | Minimum/maximum value   | `np.min([[1, 2], [3, 4]])` → `1`, `np.max([[1, 2], [3, 4]])` → `4`                              |\n",
    "| **`np.std`**          | Computes the standard deviation of array elements.              | `axis` (optional)                              | `np.std(arr, axis)`            | Scalar or array            | Standard deviation      | `np.std([[1, 2], [3, 4]])` → `1.118033988749895`                                                |\n",
    "| **`np.var`**          | Computes the variance of array elements.                        | `axis` (optional)                              | `np.var(arr, axis)`            | Scalar or array            | Variance                | `np.var([[1, 2], [3, 4]])` → `1.25`                                                             |\n",
    "| **`np.median`**       | Finds the median value of the array.                            | `axis` (optional)                              | `np.median(arr, axis)`         | Scalar or array            | Median value            | `np.median([[1, 2], [3, 4]])` → `2.5`                                                           |\n",
    "| **`np.prod`**         | Computes the product of array elements.                         | `axis` (optional)                              | `np.prod(arr, axis)`           | Scalar or array            | Product of elements     | `np.prod([[1, 2], [3, 4]])` → `24`                                                              |\n",
    "| **`np.nanmean`**      | Computes the mean while ignoring NaN values.                   | `axis` (optional)                              | `np.nanmean(arr, axis)`        | Scalar or array            | Mean ignoring NaN       | `np.nanmean([[1, np.nan], [3, 4]])` → `2.6666666666666665`                                      |\n",
    "| **`np.nansum`**       | Computes the sum while ignoring NaN values.                    | `axis` (optional)                              | `np.nansum(arr, axis)`         | Scalar or array            | Sum ignoring NaN        | `np.nansum([[1, np.nan], [3, 4]])` → `8.0`                                                      |\n",
    "| **`np.isnan`**        | Checks for NaN values in the array.                             | Array                                          | `np.isnan(arr)`                | Boolean array              | `True` for NaN values   | `np.isnan([1, np.nan, 3])` → `[False, True, False]`                                             |\n",
    "| **`reshape`**         | Changes the shape of an array.                                  | `new_shape` (tuple)                           | `arr.reshape(new_shape)`       | Reshaped array            | New shape               | `np.array([1, 2, 3, 4]).reshape(2, 2)` → `[[1, 2], [3, 4]]`                                     |\n",
    "| **`ravel`**           | Flattens the array into 1D.                                     | None                                           | `arr.ravel()`                  | 1D array                  | Flattened array         | `np.array([[1, 2], [3, 4]]).ravel()` → `[1, 2, 3, 4]`                                           |\n",
    "| **`T` (Transpose)**   | Transposes a 2D array (rows become columns).                   | None                                           | `arr.T`                        | Transposed array          | Transposed view         | `np.array([[1, 2], [3, 4]]).T` → `[[1, 3], [2, 4]]`                                             |\n",
    "| **Broadcasting**      | Automatically expands smaller arrays to match larger ones for element-wise operations. | N/A                                | `arr1 + arr2`, `arr1 * scalar` | Broadcasted array         | Element-wise result     | `[[1, 2], [3, 4]] * [10, 20]` → `[[10, 40], [30, 80]]`                                          |\n",
    "| **Matrix Multiplication** | Performs dot product of matrices.                           | `(a, b) @ (b, c)`                             | `arr1 @ arr2`                  | New matrix shape `(a, c)` | Matrix product          | `np.array([[1, 2], [3, 4]]) @ np.array([[5, 6], [7, 8]])` → `[[19, 22], [43, 50]]`              |\n",
    "| **`np.sum` with Axis** | Sums array elements along a specified axis.                   | `axis=0` (columns) / `axis=1` (rows)          | `np.sum(arr, axis=0)`          | Array reduced by axis     | Summed result           | `np.sum([[1, 2], [3, 4]], axis=0)` → `[4, 6]`                                                   |\n",
    "| **`np.min` with Axis** | Finds the minimum along rows/columns.                         | `axis=0` (columns) / `axis=1` (rows)          | `np.min(arr, axis=1)`          | Array reduced by axis     | Minimums by axis        | `np.min([[1, 2], [3, 4]], axis=1)` → `[1, 3]`                                                   |\n"
   ]
  },
  {
   "cell_type": "markdown",
   "metadata": {},
   "source": [
    "| **Concept**               | **Operator / Function** | **Description**                                                   | **Input Parameters**                            | **Syntax**                     | **Output**                    | **Return Value**        | **Example**                                                                                      |\n",
    "|---------------------------|-------------------------|-------------------------------------------------------------------|------------------------------------------------|--------------------------------|--------------------------------|-------------------------|--------------------------------------------------------------------------------------------------|\n",
    "| **Creating Arrays**       | `np.array`             | Creates an array from a list or tuple.                           | `object` (list, tuple, etc.), `dtype` (optional) | `np.array([1, 2, 3])`         | N-dimensional array         | Numpy array             | `np.array([1, 2, 3])` → `[1 2 3]`                                                               |\n",
    "|                           | `np.zeros`             | Creates an array filled with zeros.                              | `shape` (tuple), `dtype` (optional)             | `np.zeros((2, 3))`             | Array of zeros              | Array filled with zeros | `np.zeros((2, 3))` → `[[0. 0. 0.] [0. 0. 0.]]`                                                  |\n",
    "|                           | `np.ones`              | Creates an array filled with ones.                               | `shape` (tuple), `dtype` (optional)             | `np.ones((2, 2))`              | Array of ones               | Array filled with ones  | `np.ones((2, 2))` → `[[1. 1.] [1. 1.]]`                                                         |\n",
    "|                           | `np.arange`            | Creates an array with evenly spaced values.                      | `start`, `stop`, `step`                         | `np.arange(1, 10, 2)`          | 1D array                   | Array with steps         | `np.arange(1, 10, 2)` → `[1 3 5 7 9]`                                                           |\n",
    "|                           | `np.linspace`          | Creates an array with evenly spaced values between two bounds.   | `start`, `stop`, `num` (default 50)             | `np.linspace(1, 10, 5)`        | 1D array                   | Array with `num` values | `np.linspace(1, 10, 5)` → `[ 1. 3.25 5.5 7.75 10. ]`                                            |\n",
    "| **Reshaping Arrays**       | `reshape`             | Changes the shape of an array without changing data.             | `new_shape` (tuple)                             | `arr.reshape(new_shape)`       | Reshaped array            | New shape               | `np.array([1, 2, 3, 4]).reshape(2, 2)` → `[[1 2] [3 4]]`                                        |\n",
    "|                           | `ravel`               | Flattens the array into 1D.                                      | None                                           | `arr.ravel()`                  | 1D array                  | Flattened array         | `np.array([[1, 2], [3, 4]]).ravel()` → `[1, 2, 3, 4]`                                           |\n",
    "|                           | `T` (Transpose)       | Transposes a 2D array.                                           | None                                           | `arr.T`                        | Transposed array          | Transposed view         | `np.array([[1, 2], [3, 4]]).T` → `[[1 3] [2 4]]`                                                |\n",
    "| **Element-Wise Operations** | `+`, `-`, `*`, `/`   | Arithmetic operations applied element-wise.                      | Two arrays or array & scalar                    | `arr1 + arr2`, `arr1 * scalar` | Array                     | Element-wise result     | `[[1, 2], [3, 4]] + [[5, 6], [7, 8]]` → `[[6, 8], [10, 12]]`                                    |\n",
    "|                           | Broadcasting           | Automatically expands smaller arrays for element-wise operations.| N/A                                            | `arr1 + arr2`, `arr * scalar`  | Broadcasted array         | Element-wise result     | `[[1, 2], [3, 4]] * [10, 20]` → `[[10, 40], [30, 80]]`                                          |\n",
    "| **Matrix Operations**      | `@`                  | Performs matrix multiplication (dot product).                   | Two matrices `(a, b) @ (b, c)`                 | `arr1 @ arr2`                  | Matrix result `(a, c)`    | Matrix product          | `[[1, 2], [3, 4]] @ [[5, 6], [7, 8]]` → `[[19, 22] [43, 50]]`                                   |\n",
    "| **Aggregate Functions**    | `np.sum`             | Computes the sum of array elements.                              | `axis` (optional: sum along rows/columns)      | `np.sum(arr, axis)`            | Scalar or array            | Sum of elements         | `np.sum([[1, 2], [3, 4]])` → `10`                                                               |\n",
    "|                           | `np.mean`            | Computes the mean (average) of elements.                        | `axis` (optional: mean along rows/columns)     | `np.mean(arr, axis)`           | Scalar or array            | Average value           | `np.mean([[1, 2], [3, 4]])` → `2.5`                                                             |\n",
    "|                           | `np.min` / `np.max`   | Finds the minimum/maximum value in the array.                   | `axis` (optional: min/max along rows/columns)  | `np.min(arr, axis)`            | Scalar or array            | Minimum/maximum value   | `np.min([[1, 2], [3, 4]])` → `1`, `np.max([[1, 2], [3, 4]])` → `4`                              |\n",
    "|                           | `np.std`             | Computes the standard deviation of array elements.              | `axis` (optional)                              | `np.std(arr, axis)`            | Scalar or array            | Standard deviation      | `np.std([[1, 2], [3, 4]])` → `1.118`                                                            |\n",
    "|                           | `np.median`          | Finds the median value of the array.                            | `axis` (optional)                              | `np.median(arr, axis)`         | Scalar or array            | Median value            | `np.median([[1, 2], [3, 4]])` → `2.5`                                                           |\n",
    "| **Handling Missing Values** | `np.isnan`          | Checks for NaN values in the array.                             | Array                                          | `np.isnan(arr)`                | Boolean array              | `True` for NaN values   | `np.isnan([1, np.nan, 3])` → `[False, True, False]`                                             |\n",
    "|                           | `np.nanmean`         | Computes the mean while ignoring NaN values.                   | `axis` (optional)                              | `np.nanmean(arr, axis)`        | Scalar or array            | Mean ignoring NaN       | `np.nanmean([[1, np.nan], [3, 4]])` → `2.6667`                                                  |\n",
    "|                           | `np.nansum`          | Computes the sum while ignoring NaN values.                    | `axis` (optional)                              | `np.nansum(arr, axis)`         | Scalar or array            | Sum ignoring NaN        | `np.nansum([[1, np.nan], [3, 4]])` → `8.0`                                                      |\n"
   ]
  }
 ],
 "metadata": {
  "kernelspec": {
   "display_name": ".venv",
   "language": "python",
   "name": "python3"
  },
  "language_info": {
   "codemirror_mode": {
    "name": "ipython",
    "version": 3
   },
   "file_extension": ".py",
   "mimetype": "text/x-python",
   "name": "python",
   "nbconvert_exporter": "python",
   "pygments_lexer": "ipython3",
   "version": "3.11.9"
  }
 },
 "nbformat": 4,
 "nbformat_minor": 2
}
