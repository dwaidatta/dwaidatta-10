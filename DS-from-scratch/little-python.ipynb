{
 "cells": [
  {
   "cell_type": "code",
   "execution_count": 8,
   "id": "343aeb3b",
   "metadata": {},
   "outputs": [
    {
     "name": "stdout",
     "output_type": "stream",
     "text": [
      "Requirement already satisfied: matplotlib in d:\\projects\\dwaidatta-10\\.venv\\lib\\site-packages (3.10.3)\n",
      "Requirement already satisfied: pandas in d:\\projects\\dwaidatta-10\\.venv\\lib\\site-packages (2.2.3)\n",
      "Requirement already satisfied: numpy in d:\\projects\\dwaidatta-10\\.venv\\lib\\site-packages (2.2.5)\n",
      "Requirement already satisfied: seaborn in d:\\projects\\dwaidatta-10\\.venv\\lib\\site-packages (0.13.2)\n",
      "Requirement already satisfied: contourpy>=1.0.1 in d:\\projects\\dwaidatta-10\\.venv\\lib\\site-packages (from matplotlib) (1.3.2)\n",
      "Requirement already satisfied: cycler>=0.10 in d:\\projects\\dwaidatta-10\\.venv\\lib\\site-packages (from matplotlib) (0.12.1)\n",
      "Requirement already satisfied: fonttools>=4.22.0 in d:\\projects\\dwaidatta-10\\.venv\\lib\\site-packages (from matplotlib) (4.57.0)\n",
      "Requirement already satisfied: kiwisolver>=1.3.1 in d:\\projects\\dwaidatta-10\\.venv\\lib\\site-packages (from matplotlib) (1.4.8)\n",
      "Requirement already satisfied: packaging>=20.0 in d:\\projects\\dwaidatta-10\\.venv\\lib\\site-packages (from matplotlib) (25.0)\n",
      "Requirement already satisfied: pillow>=8 in d:\\projects\\dwaidatta-10\\.venv\\lib\\site-packages (from matplotlib) (11.2.1)\n",
      "Requirement already satisfied: pyparsing>=2.3.1 in d:\\projects\\dwaidatta-10\\.venv\\lib\\site-packages (from matplotlib) (3.2.3)\n",
      "Requirement already satisfied: python-dateutil>=2.7 in d:\\projects\\dwaidatta-10\\.venv\\lib\\site-packages (from matplotlib) (2.9.0.post0)\n",
      "Requirement already satisfied: pytz>=2020.1 in d:\\projects\\dwaidatta-10\\.venv\\lib\\site-packages (from pandas) (2025.2)\n",
      "Requirement already satisfied: tzdata>=2022.7 in d:\\projects\\dwaidatta-10\\.venv\\lib\\site-packages (from pandas) (2025.2)\n",
      "Requirement already satisfied: six>=1.5 in d:\\projects\\dwaidatta-10\\.venv\\lib\\site-packages (from python-dateutil>=2.7->matplotlib) (1.17.0)\n",
      "Note: you may need to restart the kernel to use updated packages.\n"
     ]
    }
   ],
   "source": [
    "# installing libraries\n",
    "\n",
    "%pip install matplotlib pandas numpy seaborn"
   ]
  },
  {
   "cell_type": "code",
   "execution_count": 6,
   "id": "027fe9c0",
   "metadata": {},
   "outputs": [
    {
     "name": "stdout",
     "output_type": "stream",
     "text": [
      "defaultdict(<class 'int'>, {'good': 3, 'bad': 2, 'okay': 2, 'medium': 1})\n"
     ]
    }
   ],
   "source": [
    "# defaultdict example\n",
    "\n",
    "from collections import defaultdict\n",
    "\n",
    "words = [\"good\", \"bad\", \"bad\", \"good\", \"okay\", \"okay\", \"good\", \"medium\"]\n",
    "\n",
    "word_count = defaultdict(int)\n",
    "\n",
    "for word in words:\n",
    "    word_count[word] += 1\n",
    "\n",
    "print(word_count)"
   ]
  },
  {
   "cell_type": "code",
   "execution_count": 7,
   "id": "447eff59",
   "metadata": {},
   "outputs": [
    {
     "name": "stdout",
     "output_type": "stream",
     "text": [
      "Counter({'good': 3, 'bad': 2, 'okay': 2, 'medium': 1})\n"
     ]
    }
   ],
   "source": [
    "# counter example\n",
    "\n",
    "from collections import Counter\n",
    "\n",
    "c = Counter(words)\n",
    "\n",
    "print(c)"
   ]
  },
  {
   "cell_type": "code",
   "execution_count": null,
   "id": "cc508a0f",
   "metadata": {},
   "outputs": [],
   "source": [
    "# assert example\n",
    "\n",
    "def smallest(numbers):\n",
    "    return min(numbers)\n",
    "\n",
    "numbers = [1, 5, 10, 2, 2]\n",
    "\n",
    "# smallest() should return the smallest number from the list\n",
    "\n",
    "assert smallest(numbers) == 1 # will return no error"
   ]
  },
  {
   "cell_type": "code",
   "execution_count": 12,
   "id": "ea0d9ae5",
   "metadata": {},
   "outputs": [
    {
     "name": "stdout",
     "output_type": "stream",
     "text": [
      "Assertion error. Program ends.\n"
     ]
    }
   ],
   "source": [
    "# assert example\n",
    "\n",
    "def smallest(numbers):\n",
    "    return min(numbers)\n",
    "\n",
    "numbers = [1, 5, 10, 2, 2]\n",
    "\n",
    "# smallest() should return the smallest number from the list\n",
    "\n",
    "try:\n",
    "    assert smallest(numbers) == 100 # will return assertion error\n",
    "\n",
    "except AssertionError:\n",
    "    print(\"Assertion error. Program ends.\")"
   ]
  },
  {
   "cell_type": "code",
   "execution_count": null,
   "id": "761c52c1",
   "metadata": {},
   "outputs": [],
   "source": []
  }
 ],
 "metadata": {
  "kernelspec": {
   "display_name": ".venv",
   "language": "python",
   "name": "python3"
  },
  "language_info": {
   "codemirror_mode": {
    "name": "ipython",
    "version": 3
   },
   "file_extension": ".py",
   "mimetype": "text/x-python",
   "name": "python",
   "nbconvert_exporter": "python",
   "pygments_lexer": "ipython3",
   "version": "3.12.10"
  }
 },
 "nbformat": 4,
 "nbformat_minor": 5
}
