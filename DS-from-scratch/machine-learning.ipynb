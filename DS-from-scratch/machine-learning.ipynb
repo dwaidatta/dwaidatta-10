{
 "cells": [
  {
   "cell_type": "markdown",
   "id": "7cb1b34e",
   "metadata": {},
   "source": [
    "Model: A model is a specification of a mathematical or satistical relationship between a set of variables.\n",
    "\n",
    "Machine Learning: Refers to creating and using models that are learned from data. In this context, we will be using predictive modeling."
   ]
  }
 ],
 "metadata": {
  "language_info": {
   "name": "python"
  }
 },
 "nbformat": 4,
 "nbformat_minor": 5
}
